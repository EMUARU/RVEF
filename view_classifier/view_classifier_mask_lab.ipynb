{
 "cells": [
  {
   "cell_type": "code",
   "execution_count": null,
   "metadata": {},
   "outputs": [],
   "source": [
    "'''\n",
    "import os\n",
    "import shutil\n",
    "\n",
    "source_dir = \"masklab\"  \n",
    "destination_dir = \"masklab_jpg_only\"  \n",
    "\n",
    "if not os.path.exists(destination_dir):\n",
    "    os.makedirs(destination_dir)\n",
    "\n",
    "for subdir, dirs, files in os.walk(source_dir):\n",
    "    for file in files:\n",
    "        if file.lower().endswith(\".jpg\"):\n",
    "            rel_path = os.path.relpath(subdir, source_dir)\n",
    "            dest_subdir = os.path.join(destination_dir, rel_path)\n",
    "            if not os.path.exists(dest_subdir):\n",
    "                os.makedirs(dest_subdir)\n",
    "\n",
    "            src_file_path = os.path.join(subdir, file)\n",
    "            dest_file_path = os.path.join(dest_subdir, file)\n",
    "            shutil.copy(src_file_path, dest_file_path)'\n",
    "'''"
   ]
  },
  {
   "cell_type": "code",
   "execution_count": null,
   "metadata": {},
   "outputs": [],
   "source": [
    "import os\n",
    "import shutil\n",
    "\n",
    "dir = \"masklab_jpg_only\"\n",
    "\n",
    "from tensorflow.keras.preprocessing.image import ImageDataGenerator\n",
    "from tensorflow.keras.models import load_model\n",
    "import numpy as np\n",
    "import pandas as pd\n",
    "\n",
    "model_name = \"mymodel_echocv_500-500-8_adam_16_0.9394.h5\"\n",
    "input_shape = (224,224,3)\n",
    "batch_size = 2\n",
    "\n",
    "test_datagen = ImageDataGenerator()\n",
    "test_generator = test_datagen.flow_from_directory(\n",
    "    directory=dir,\n",
    "    target_size=input_shape[:2],\n",
    "    color_mode='rgb',\n",
    "    class_mode=None,\n",
    "    batch_size=batch_size,\n",
    "    shuffle=False\n",
    ")\n",
    "STEP_SIZE_TEST = test_generator.n/batch_size\n",
    "test_generator.reset()\n",
    "\n",
    "model = load_model(model_name)\n",
    "pred = model.predict_generator(test_generator, verbose=1)\n",
    "\n",
    "confidence = [\"{0:.3f}\".format(np.amax(p)) for p in pred]\n",
    "predicted_class_indices = np.argmax(pred,axis=1)\n",
    "labels = { 'plax':0, 'psax-av':1, 'psax-mv':2, 'psax-ap':3, 'a4c':4, 'a5c':5, 'a3c':6, 'a2c':7 }\n",
    "labels = dict((v,k) for k,v in labels.items())\n",
    "predictions = [labels[k] for k in predicted_class_indices]\n",
    "filenames=test_generator.filenames\n",
    "results = pd.DataFrame({\"Filename\":filenames, \"Prediction\":predictions, \"Confidence\":confidence})\n",
    "results_file = \"masklab_results.csv\"\n",
    "results.to_csv(results_file, index=False, encoding='utf-8-sig')"
   ]
  }
 ],
 "metadata": {
  "kernelspec": {
   "display_name": "tf1",
   "language": "python",
   "name": "python3"
  },
  "language_info": {
   "codemirror_mode": {
    "name": "ipython",
    "version": 3
   },
   "file_extension": ".py",
   "mimetype": "text/x-python",
   "name": "python",
   "nbconvert_exporter": "python",
   "pygments_lexer": "ipython3",
   "version": "3.6.15"
  }
 },
 "nbformat": 4,
 "nbformat_minor": 2
}
